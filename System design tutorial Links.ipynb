{
 "cells": [
  {
   "cell_type": "markdown",
   "id": "western-filing",
   "metadata": {},
   "source": [
    "# Consistent hashing and roundrobin algo in load balancing\n",
    " https://iamjakelam.com/tech-talk/2020/06/06/load-balancing-and-consistent-hashing/ "
   ]
  },
  {
   "cell_type": "code",
   "execution_count": 5,
   "id": "hearing-acrobat",
   "metadata": {},
   "outputs": [],
   "source": [
    "# https://www.geeksforgeeks.org/design-bookmyshow-a-system-design-interview-question/"
   ]
  },
  {
   "cell_type": "code",
   "execution_count": 6,
   "id": "fewer-quilt",
   "metadata": {},
   "outputs": [],
   "source": [
    "# https://www.javatpoint.com/factory-method-design-pattern"
   ]
  },
  {
   "cell_type": "code",
   "execution_count": null,
   "id": "living-dietary",
   "metadata": {},
   "outputs": [],
   "source": []
  }
 ],
 "metadata": {
  "kernelspec": {
   "display_name": "Python 3 (ipykernel)",
   "language": "python",
   "name": "python3"
  },
  "language_info": {
   "codemirror_mode": {
    "name": "ipython",
    "version": 3
   },
   "file_extension": ".py",
   "mimetype": "text/x-python",
   "name": "python",
   "nbconvert_exporter": "python",
   "pygments_lexer": "ipython3",
   "version": "3.9.2"
  }
 },
 "nbformat": 4,
 "nbformat_minor": 5
}
