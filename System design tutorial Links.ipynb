{
 "cells": [
  {
   "cell_type": "markdown",
   "id": "further-point",
   "metadata": {},
   "source": [
    "# Consistent hashing and roundrobin algo in load balancing\n",
    " https://iamjakelam.com/tech-talk/2020/06/06/load-balancing-and-consistent-hashing/ "
   ]
  },
  {
   "cell_type": "code",
   "execution_count": 1,
   "id": "proof-steel",
   "metadata": {},
   "outputs": [
    {
     "ename": "SyntaxError",
     "evalue": "invalid syntax (2371330623.py, line 1)",
     "output_type": "error",
     "traceback": [
      "\u001b[1;36m  Cell \u001b[1;32mIn[1], line 1\u001b[1;36m\u001b[0m\n\u001b[1;33m    https://www.geeksforgeeks.org/design-bookmyshow-a-system-design-interview-question/\u001b[0m\n\u001b[1;37m          ^\u001b[0m\n\u001b[1;31mSyntaxError\u001b[0m\u001b[1;31m:\u001b[0m invalid syntax\n"
     ]
    }
   ],
   "source": [
    "# https://www.geeksforgeeks.org/design-bookmyshow-a-system-design-interview-question/"
   ]
  }
 ],
 "metadata": {
  "kernelspec": {
   "display_name": "Python 3 (ipykernel)",
   "language": "python",
   "name": "python3"
  },
  "language_info": {
   "codemirror_mode": {
    "name": "ipython",
    "version": 3
   },
   "file_extension": ".py",
   "mimetype": "text/x-python",
   "name": "python",
   "nbconvert_exporter": "python",
   "pygments_lexer": "ipython3",
   "version": "3.9.2"
  }
 },
 "nbformat": 4,
 "nbformat_minor": 5
}
