{
 "cells": [
  {
   "cell_type": "code",
   "execution_count": 3,
   "id": "editorial-brunswick",
   "metadata": {},
   "outputs": [
    {
     "data": {
      "text/plain": [
       "GridSearchCV(estimator=SVC(),\n",
       "             param_grid={'C': [1, 2, 3, 6], 'kernel': ['linear', 'rbf']})"
      ]
     },
     "execution_count": 3,
     "metadata": {},
     "output_type": "execute_result"
    }
   ],
   "source": [
    "\n",
    "# Importing the libraries needed\n",
    "\n",
    "import pandas as pd\n",
    "from sklearn.linear_model import LogisticRegression\n",
    "from sklearn.svm import SVC\n",
    "from sklearn.model_selection import GridSearchCV\n",
    " \n",
    "# Loading the Dataset\n",
    "# A standard dataset here is taken for better understanding.\n",
    "iris = pd.read_csv('https://raw.githubusercontent.com/pranavkotak8/Datasets/master/Iris.csv')\n",
    "target=iris['Species']\n",
    "iris.drop(columns={'Id','Species'},inplace=True)\n",
    " \n",
    "# Assigning the parameters and its values which need to be tuned.\n",
    "parameters = {'kernel': ['linear', 'rbf'], 'C':[1,2,3,6]}\n",
    " \n",
    "# Fitting the SVM model\n",
    "modelsvc = SVC()\n",
    " \n",
    "# Performing the GridSearchCV\n",
    "clf = GridSearchCV(modelsvc, parameters)\n",
    "clf.fit(iris, target)"
   ]
  },
  {
   "cell_type": "code",
   "execution_count": null,
   "id": "cellular-bruce",
   "metadata": {},
   "outputs": [],
   "source": []
  }
 ],
 "metadata": {
  "kernelspec": {
   "display_name": "gpu2",
   "language": "python",
   "name": "gpu2"
  },
  "language_info": {
   "codemirror_mode": {
    "name": "ipython",
    "version": 3
   },
   "file_extension": ".py",
   "mimetype": "text/x-python",
   "name": "python",
   "nbconvert_exporter": "python",
   "pygments_lexer": "ipython3",
   "version": "3.6.13"
  }
 },
 "nbformat": 4,
 "nbformat_minor": 5
}
