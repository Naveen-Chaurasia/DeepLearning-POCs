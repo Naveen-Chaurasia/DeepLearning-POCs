{
 "cells": [
  {
   "cell_type": "code",
   "execution_count": 1,
   "id": "alpha-circular",
   "metadata": {},
   "outputs": [
    {
     "name": "stdout",
     "output_type": "stream",
     "text": [
      "Imaginedragons is a band formed in 2010 consisting of three musicians: Dan Reynolds (lead vocals), Ben McKee (bass guitar) and Daniel Platzman (lead/rhythm guitar). Their debut studio album \"Night Visions\" was released on September 4th 2012 and peaked at #6 on US Billboard Top Rock Albums chart as well as #35 on US Billboard Hot 100 albums.\n"
     ]
    },
    {
     "data": {
      "text/plain": [
       "['Imaginedragons is a band formed in 2010 consisting of three musicians: Dan Reynolds (lead vocals), Ben McKee (bass guitar) and Daniel Platzman (lead/rhythm guitar). Their debut studio album \"Night Visions\" was released on September 4th 2012 and peaked at #6 on US Billboard Top Rock Albums chart as well as #35 on US Billboard Hot 100 albums.']"
      ]
     },
     "execution_count": 1,
     "metadata": {},
     "output_type": "execute_result"
    }
   ],
   "source": [
    "# https://github.com/Soulter/hugging-chat-api\n",
    "from hugchat import hugchat\n",
    "chatbot = hugchat.ChatBot()\n",
    "print(chatbot.chat(\"Who are imaginedragons? \"))\n",
    "# chatbot.chat('who was mahatma gandhi')\n",
    "# l\n",
    "# New a conversation (ignore error)\n",
    "id = chatbot.new_conversation()\n",
    "id\n",
    "# chatbot.change_conversation(id)\n",
    "\n",
    "# Get conversation list\n",
    "conversation_list = chatbot.get_conversation_list()\n",
    "conversation_list"
   ]
  },
  {
   "cell_type": "code",
   "execution_count": null,
   "id": "posted-township",
   "metadata": {},
   "outputs": [],
   "source": []
  }
 ],
 "metadata": {
  "kernelspec": {
   "display_name": "gpu2",
   "language": "python",
   "name": "gpu2"
  },
  "language_info": {
   "codemirror_mode": {
    "name": "ipython",
    "version": 3
   },
   "file_extension": ".py",
   "mimetype": "text/x-python",
   "name": "python",
   "nbconvert_exporter": "python",
   "pygments_lexer": "ipython3",
   "version": "3.6.13"
  }
 },
 "nbformat": 4,
 "nbformat_minor": 5
}
