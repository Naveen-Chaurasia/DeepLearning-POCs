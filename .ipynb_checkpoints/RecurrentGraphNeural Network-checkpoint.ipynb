{
 "cells": [
  {
   "cell_type": "code",
   "execution_count": null,
   "id": "e4c23777",
   "metadata": {},
   "outputs": [],
   "source": [
    "import networkx as nx\n",
    "\n",
    "# read our graph from file\n",
    "our_graph = nx.read_gml('graph.gml')\n",
    "# define our new node attributes\n",
    "attrs = { \"Cat\": { \"in_degree\": 31 }, \"New_York_City\": { \"in_degree\": 317 } }\n",
    "# add our new attributes to the graph\n",
    "nx.set_node_attributes(our_graph, attrs)"
   ]
  }
 ],
 "metadata": {
  "kernelspec": {
   "display_name": "Python 3",
   "language": "python",
   "name": "python3"
  },
  "language_info": {
   "codemirror_mode": {
    "name": "ipython",
    "version": 3
   },
   "file_extension": ".py",
   "mimetype": "text/x-python",
   "name": "python",
   "nbconvert_exporter": "python",
   "pygments_lexer": "ipython3",
   "version": "3.6.13"
  }
 },
 "nbformat": 4,
 "nbformat_minor": 5
}
