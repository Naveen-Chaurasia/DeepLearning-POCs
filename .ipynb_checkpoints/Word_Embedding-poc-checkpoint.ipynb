{
 "cells": [
  {
   "cell_type": "code",
   "execution_count": 1,
   "id": "widespread-bedroom",
   "metadata": {},
   "outputs": [],
   "source": [
    "import numpy as np\n",
    "from tensorflow.keras.preprocessing.text import one_hot\n",
    "from tensorflow.keras.preprocessing.sequence import pad_sequences\n",
    "from tensorflow.keras.models import Sequential\n",
    "from tensorflow.keras.layers import Dense\n",
    "from tensorflow.keras.layers import Flatten\n",
    "from tensorflow.keras.layers import Embedding\n",
    "\n",
    "reviews = ['nice food',\n",
    "        'amazing restaurant',\n",
    "        'too good',\n",
    "        'just loved it!',\n",
    "        'will go again',\n",
    "        'horrible food',\n",
    "        'never go there',\n",
    "        'poor service',\n",
    "        'poor quality',\n",
    "        'needs improvement']\n",
    "\n",
    "sentiment = np.array([1,1,1,1,1,0,0,0,0,0])\n"
   ]
  },
  {
   "cell_type": "code",
   "execution_count": 2,
   "id": "handled-fever",
   "metadata": {},
   "outputs": [
    {
     "data": {
      "text/plain": [
       "[3, 1]"
      ]
     },
     "execution_count": 2,
     "metadata": {},
     "output_type": "execute_result"
    }
   ],
   "source": [
    "one_hot(\"amazing restaurant\",30)"
   ]
  },
  {
   "cell_type": "code",
   "execution_count": 3,
   "id": "allied-chart",
   "metadata": {},
   "outputs": [
    {
     "name": "stdout",
     "output_type": "stream",
     "text": [
      "[[5, 16], [3, 1], [19, 3], [15, 9, 1], [13, 17, 6], [11, 16], [24, 17, 15], [3, 21], [3, 13], [16, 12]]\n"
     ]
    }
   ],
   "source": [
    "vocab_size=30\n",
    "encoded_reviews=[one_hot(d,vocab_size) for d in reviews]\n",
    "print(encoded_reviews)"
   ]
  },
  {
   "cell_type": "code",
   "execution_count": 4,
   "id": "ethical-westminster",
   "metadata": {},
   "outputs": [
    {
     "name": "stdout",
     "output_type": "stream",
     "text": [
      "[[ 5 16  0  0]\n",
      " [ 3  1  0  0]\n",
      " [19  3  0  0]\n",
      " [15  9  1  0]\n",
      " [13 17  6  0]\n",
      " [11 16  0  0]\n",
      " [24 17 15  0]\n",
      " [ 3 21  0  0]\n",
      " [ 3 13  0  0]\n",
      " [16 12  0  0]]\n"
     ]
    }
   ],
   "source": [
    "max_length=4\n",
    "padded_reviews=pad_sequences(encoded_reviews,maxlen=max_length,padding='post')\n",
    "print(padded_reviews)"
   ]
  },
  {
   "cell_type": "code",
   "execution_count": null,
   "id": "engaged-leave",
   "metadata": {},
   "outputs": [],
   "source": []
  }
 ],
 "metadata": {
  "kernelspec": {
   "display_name": "gpu2",
   "language": "python",
   "name": "gpu2"
  },
  "language_info": {
   "codemirror_mode": {
    "name": "ipython",
    "version": 3
   },
   "file_extension": ".py",
   "mimetype": "text/x-python",
   "name": "python",
   "nbconvert_exporter": "python",
   "pygments_lexer": "ipython3",
   "version": "3.6.13"
  }
 },
 "nbformat": 4,
 "nbformat_minor": 5
}
