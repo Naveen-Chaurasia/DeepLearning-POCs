{
 "cells": [
  {
   "cell_type": "code",
   "execution_count": 5,
   "id": "nasty-possible",
   "metadata": {},
   "outputs": [],
   "source": [
    "#regex101.com\n",
    "import re\n"
   ]
  },
  {
   "cell_type": "code",
   "execution_count": 9,
   "id": "ceramic-mayor",
   "metadata": {},
   "outputs": [
    {
     "data": {
      "text/plain": [
       "['(978)-391-6990']"
      ]
     },
     "execution_count": 9,
     "metadata": {},
     "output_type": "execute_result"
    }
   ],
   "source": [
    "pattern='\\(\\d{3}\\)-\\d{3}-\\d{4}'\n",
    "text= 'My emailid is asjdjkas@gmail.com na dphone number is 9781376554 +91-(978)-391-6990'\n",
    "\n",
    "match= re.findall(pattern,text)\n",
    "match"
   ]
  },
  {
   "cell_type": "code",
   "execution_count": 23,
   "id": "contained-zealand",
   "metadata": {},
   "outputs": [
    {
     "data": {
      "text/plain": [
       "['asjdjkas@gmail.com']"
      ]
     },
     "execution_count": 23,
     "metadata": {},
     "output_type": "execute_result"
    }
   ],
   "source": [
    "pattern1='[a-zA-Z]*@[a-zA-Z]*\\.[a-z]*'\n",
    "match1=re.findall(pattern1,text)\n",
    "match1"
   ]
  },
  {
   "cell_type": "code",
   "execution_count": null,
   "id": "least-apparatus",
   "metadata": {},
   "outputs": [],
   "source": []
  }
 ],
 "metadata": {
  "kernelspec": {
   "display_name": "gpu2",
   "language": "python",
   "name": "gpu2"
  },
  "language_info": {
   "codemirror_mode": {
    "name": "ipython",
    "version": 3
   },
   "file_extension": ".py",
   "mimetype": "text/x-python",
   "name": "python",
   "nbconvert_exporter": "python",
   "pygments_lexer": "ipython3",
   "version": "3.6.13"
  }
 },
 "nbformat": 4,
 "nbformat_minor": 5
}
