{
 "cells": [
  {
   "cell_type": "code",
   "execution_count": 1,
   "id": "handled-switch",
   "metadata": {},
   "outputs": [],
   "source": [
    "#spacy is object oriented\n",
    "#nltk is string oriented\n",
    "import spacy"
   ]
  },
  {
   "cell_type": "code",
   "execution_count": 7,
   "id": "sporting-fortune",
   "metadata": {},
   "outputs": [
    {
     "name": "stdout",
     "output_type": "stream",
     "text": [
      "Dr.\n",
      "strnge\n",
      "loves\n",
      "pav\n",
      "bhaji\n",
      "as\n",
      "it\n",
      "costs\n",
      "only\n",
      "$\n",
      "5\n"
     ]
    }
   ],
   "source": [
    "nlp=spacy.blank(\"en\")\n",
    "doc=nlp(\"Dr. strnge loves pav bhaji as it costs only $5\")\n",
    "doc\n",
    "for token in doc:\n",
    "   print(token)"
   ]
  },
  {
   "cell_type": "code",
   "execution_count": null,
   "id": "several-omaha",
   "metadata": {},
   "outputs": [],
   "source": []
  }
 ],
 "metadata": {
  "kernelspec": {
   "display_name": "gpu2",
   "language": "python",
   "name": "gpu2"
  },
  "language_info": {
   "codemirror_mode": {
    "name": "ipython",
    "version": 3
   },
   "file_extension": ".py",
   "mimetype": "text/x-python",
   "name": "python",
   "nbconvert_exporter": "python",
   "pygments_lexer": "ipython3",
   "version": "3.6.13"
  }
 },
 "nbformat": 4,
 "nbformat_minor": 5
}
