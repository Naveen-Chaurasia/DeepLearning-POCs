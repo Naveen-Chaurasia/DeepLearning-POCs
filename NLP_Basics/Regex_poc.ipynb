{
 "cells": [
  {
   "cell_type": "code",
   "execution_count": 5,
   "id": "helpful-visitor",
   "metadata": {},
   "outputs": [],
   "source": [
    "#regex101.com\n",
    "# https://www.youtube.com/watch?v=lK9gx4q_vfI&list=PLeo1K3hjS3uuvuAXhYjV2lMEShq2UYSwX&index=3\n",
    "import re\n"
   ]
  },
  {
   "cell_type": "code",
   "execution_count": 9,
   "id": "skilled-floating",
   "metadata": {},
   "outputs": [
    {
     "data": {
      "text/plain": [
       "['(978)-391-6990']"
      ]
     },
     "execution_count": 9,
     "metadata": {},
     "output_type": "execute_result"
    }
   ],
   "source": [
    "pattern='\\(\\d{3}\\)-\\d{3}-\\d{4}'\n",
    "text= 'My emailid is asjdjkas@gmail.com na dphone number is 9781376554 +91-(978)-391-6990'\n",
    "\n",
    "match= re.findall(pattern,text)\n",
    "match"
   ]
  },
  {
   "cell_type": "code",
   "execution_count": 23,
   "id": "proud-frederick",
   "metadata": {},
   "outputs": [
    {
     "data": {
      "text/plain": [
       "['asjdjkas@gmail.com']"
      ]
     },
     "execution_count": 23,
     "metadata": {},
     "output_type": "execute_result"
    }
   ],
   "source": [
    "pattern1='[a-zA-Z]*@[a-zA-Z]*\\.[a-z]*'\n",
    "match1=re.findall(pattern1,text)\n",
    "match1"
   ]
  },
  {
   "cell_type": "code",
   "execution_count": 28,
   "id": "comparative-conditions",
   "metadata": {},
   "outputs": [],
   "source": [
    "pattern2='[^\\d]' # for matching everything which is not digit\n",
    "def get_pattern_match(pattern, text):\n",
    "    matches = re.findall(pattern, text)\n",
    "    if matches:\n",
    "        return matches[0]"
   ]
  },
  {
   "cell_type": "code",
   "execution_count": 30,
   "id": "collaborative-deficit",
   "metadata": {},
   "outputs": [
    {
     "data": {
      "text/plain": [
       "'50'"
      ]
     },
     "execution_count": 30,
     "metadata": {},
     "output_type": "execute_result"
    }
   ],
   "source": [
    "text='''\n",
    "Born\tElon Reeve Musk\n",
    "June 28, 1971 (age 50)\n",
    "Pretoria, Transvaal, South Africa\n",
    "Citizenship\t\n",
    "South Africa (1971–present)\n",
    "Canada (1971–present)\n",
    "United States (2002–present)\n",
    "Education\tUniversity of Pennsylvania (BS, BA)\n",
    "Title\t\n",
    "Founder, CEO and Chief Engineer of SpaceX\n",
    "CEO and product architect of Tesla, Inc.\n",
    "Founder of The Boring Company and X.com (now part of PayPal)\n",
    "Co-founder of Neuralink, OpenAI, and Zip2\n",
    "Spouse(s)\t\n",
    "Justine Wilson\n",
    "​\n",
    "​(m. 2000; div. 2008)​\n",
    "Talulah Riley\n",
    "​\n",
    "​(m. 2010; div. 2012)​\n",
    "​\n",
    "​(m. 2013; div. 2016)\n",
    "'''\n",
    "get_pattern_match(r'age (\\d+)', text) # \\d+ for one or more charactert           \\d* for 0 or more character   () for data needs to be extrated"
   ]
  },
  {
   "cell_type": "code",
   "execution_count": null,
   "id": "bound-pension",
   "metadata": {},
   "outputs": [],
   "source": []
  }
 ],
 "metadata": {
  "kernelspec": {
   "display_name": "gpu2",
   "language": "python",
   "name": "gpu2"
  },
  "language_info": {
   "codemirror_mode": {
    "name": "ipython",
    "version": 3
   },
   "file_extension": ".py",
   "mimetype": "text/x-python",
   "name": "python",
   "nbconvert_exporter": "python",
   "pygments_lexer": "ipython3",
   "version": "3.6.13"
  }
 },
 "nbformat": 4,
 "nbformat_minor": 5
}
