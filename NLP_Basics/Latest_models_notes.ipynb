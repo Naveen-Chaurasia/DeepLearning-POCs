{
 "cells": [
  {
   "cell_type": "code",
   "execution_count": 1,
   "id": "8ded3051",
   "metadata": {},
   "outputs": [],
   "source": [
    "# https://analyticsindiamag.com/the-most-innovative-ai-algorithms-released-in-2022-till-date/"
   ]
  },
  {
   "cell_type": "markdown",
   "id": "881f2553",
   "metadata": {},
   "source": [
    "## Diffrence between BERT ROBERT AND ALBERT"
   ]
  },
  {
   "cell_type": "code",
   "execution_count": 3,
   "id": "6c439eb9",
   "metadata": {},
   "outputs": [],
   "source": [
    "# https://towardsdatascience.com/exploring-bert-variants-albert-roberta-electra-642dfe51bc23"
   ]
  },
  {
   "cell_type": "raw",
   "id": "cad53bd4",
   "metadata": {},
   "source": [
    " NLP as a domain from BoW, TFIDF, Word2Vec, RNN, LSTM to finally BERT \n",
    " "
   ]
  },
  {
   "cell_type": "markdown",
   "id": "d4379a89",
   "metadata": {},
   "source": [
    "## Text Classification with NLP: Tf-Idf vs Word2Vec vs BERT/Distil-BERT(Light version of B)"
   ]
  },
  {
   "cell_type": "code",
   "execution_count": 4,
   "id": "e193261b",
   "metadata": {},
   "outputs": [],
   "source": [
    "# https://towardsdatascience.com/text-classification-with-nlp-tf-idf-vs-word2vec-vs-bert-41ff868d1794"
   ]
  },
  {
   "cell_type": "code",
   "execution_count": null,
   "id": "0b46d97e",
   "metadata": {},
   "outputs": [],
   "source": []
  }
 ],
 "metadata": {
  "kernelspec": {
   "display_name": "Python 3 (ipykernel)",
   "language": "python",
   "name": "python3"
  },
  "language_info": {
   "codemirror_mode": {
    "name": "ipython",
    "version": 3
   },
   "file_extension": ".py",
   "mimetype": "text/x-python",
   "name": "python",
   "nbconvert_exporter": "python",
   "pygments_lexer": "ipython3",
   "version": "3.9.13"
  }
 },
 "nbformat": 4,
 "nbformat_minor": 5
}
