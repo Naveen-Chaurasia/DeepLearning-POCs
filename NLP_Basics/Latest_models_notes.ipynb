{
 "cells": [
  {
   "cell_type": "code",
   "execution_count": 1,
   "id": "8ded3051",
   "metadata": {},
   "outputs": [],
   "source": [
    "# https://analyticsindiamag.com/the-most-innovative-ai-algorithms-released-in-2022-till-date/"
   ]
  },
  {
   "cell_type": "markdown",
   "id": "63129f74",
   "metadata": {},
   "source": [
    "## Diffrence between BERT ROBERT AND ALBERT"
   ]
  },
  {
   "cell_type": "code",
   "execution_count": 3,
   "id": "03f1a29f",
   "metadata": {},
   "outputs": [],
   "source": [
    "# https://towardsdatascience.com/exploring-bert-variants-albert-roberta-electra-642dfe51bc23"
   ]
  },
  {
   "cell_type": "raw",
   "id": "b9aba6f0",
   "metadata": {},
   "source": [
    " NLP as a domain from BoW, TFIDF, Word2Vec, RNN, LSTM to finally BERT \n",
    " "
   ]
  },
  {
   "cell_type": "markdown",
   "id": "5eb25b71",
   "metadata": {},
   "source": [
    "## Text Classification with NLP: Tf-Idf vs Word2Vec vs BERT/Distil-BERT(Light version of BERT)"
   ]
  },
  {
   "cell_type": "code",
   "execution_count": 4,
   "id": "0e42ed11",
   "metadata": {},
   "outputs": [],
   "source": [
    "# https://towardsdatascience.com/text-classification-with-nlp-tf-idf-vs-word2vec-vs-bert-41ff868d1794"
   ]
  },
  {
   "cell_type": "markdown",
   "id": "28a4b4ec",
   "metadata": {},
   "source": [
    "The technology fitted inside the bionic arm is known scientifically as electromyography, and the special sensors are electromyographical, or EMG, electrodes. "
   ]
  },
  {
   "cell_type": "raw",
   "id": "c09cfa52",
   "metadata": {},
   "source": [
    "Electromyography (EMG) and nerve conduction studies are tests that measure the electrical activity of muscles and nerves. Nerves send out electrical signals to make your muscles react in certain ways. As your muscles react, they give off these signals, which can then be measured."
   ]
  },
  {
   "cell_type": "markdown",
   "id": "1201ad34",
   "metadata": {},
   "source": [
    "# fine Tuning Models (ChatGPT) OPENAI"
   ]
  },
  {
   "cell_type": "code",
   "execution_count": 2,
   "id": "5a3de577",
   "metadata": {},
   "outputs": [],
   "source": [
    "# https://platform.openai.com/docs/guides/fine-tuning"
   ]
  },
  {
   "cell_type": "code",
   "execution_count": 1,
   "id": "87162b31",
   "metadata": {},
   "outputs": [],
   "source": [
    "# https://neo4j.com/developer-blog/knowledge-graph-based-chatbot-with-gpt-3-and-neo4j/"
   ]
  },
  {
   "cell_type": "markdown",
   "id": "50135494",
   "metadata": {},
   "source": [
    "# For Finding Text Similarity in python using different algos."
   ]
  },
  {
   "cell_type": "code",
   "execution_count": null,
   "id": "12240403",
   "metadata": {},
   "outputs": [],
   "source": [
    "# https://spotintelligence.com/2022/12/19/text-similarity-python/"
   ]
  }
 ],
 "metadata": {
  "kernelspec": {
   "display_name": "Python 3 (ipykernel)",
   "language": "python",
   "name": "python3"
  },
  "language_info": {
   "codemirror_mode": {
    "name": "ipython",
    "version": 3
   },
   "file_extension": ".py",
   "mimetype": "text/x-python",
   "name": "python",
   "nbconvert_exporter": "python",
   "pygments_lexer": "ipython3",
   "version": "3.9.13"
  }
 },
 "nbformat": 4,
 "nbformat_minor": 5
}
