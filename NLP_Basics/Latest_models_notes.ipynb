{
 "cells": [
  {
   "cell_type": "code",
   "execution_count": 1,
   "id": "8ded3051",
   "metadata": {},
   "outputs": [],
   "source": [
    "# https://analyticsindiamag.com/the-most-innovative-ai-algorithms-released-in-2022-till-date/"
   ]
  },
  {
   "cell_type": "markdown",
   "id": "8dcdf4ad",
   "metadata": {},
   "source": [
    "Diffrence between BERT ROBERT AND ALBERT"
   ]
  },
  {
   "cell_type": "code",
   "execution_count": 3,
   "id": "43a2bf7c",
   "metadata": {},
   "outputs": [],
   "source": [
    "# https://towardsdatascience.com/exploring-bert-variants-albert-roberta-electra-642dfe51bc23"
   ]
  },
  {
   "cell_type": "raw",
   "id": "f4333291",
   "metadata": {},
   "source": [
    " NLP as a domain from BoW, TFIDF, Word2Vec, RNN, LSTM to finally BERT \n",
    " "
   ]
  },
  {
   "cell_type": "code",
   "execution_count": null,
   "id": "17d3e6d1",
   "metadata": {},
   "outputs": [],
   "source": []
  }
 ],
 "metadata": {
  "kernelspec": {
   "display_name": "Python 3 (ipykernel)",
   "language": "python",
   "name": "python3"
  },
  "language_info": {
   "codemirror_mode": {
    "name": "ipython",
    "version": 3
   },
   "file_extension": ".py",
   "mimetype": "text/x-python",
   "name": "python",
   "nbconvert_exporter": "python",
   "pygments_lexer": "ipython3",
   "version": "3.9.13"
  }
 },
 "nbformat": 4,
 "nbformat_minor": 5
}
