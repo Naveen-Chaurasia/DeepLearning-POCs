{
 "cells": [
  {
   "cell_type": "code",
   "execution_count": 1,
   "id": "8ded3051",
   "metadata": {},
   "outputs": [],
   "source": [
    "# https://analyticsindiamag.com/the-most-innovative-ai-algorithms-released-in-2022-till-date/"
   ]
  },
  {
   "cell_type": "markdown",
   "id": "63129f74",
   "metadata": {},
   "source": [
    "## Diffrence between BERT ROBERT AND ALBERT"
   ]
  },
  {
   "cell_type": "code",
   "execution_count": 3,
   "id": "03f1a29f",
   "metadata": {},
   "outputs": [],
   "source": [
    "# https://towardsdatascience.com/exploring-bert-variants-albert-roberta-electra-642dfe51bc23"
   ]
  },
  {
   "cell_type": "raw",
   "id": "b9aba6f0",
   "metadata": {},
   "source": [
    " NLP as a domain from BoW, TFIDF, Word2Vec, RNN, LSTM to finally BERT \n",
    " "
   ]
  },
  {
   "cell_type": "markdown",
   "id": "5eb25b71",
   "metadata": {},
   "source": [
    "## Text Classification with NLP: Tf-Idf vs Word2Vec vs BERT/Distil-BERT(Light version of BERT)"
   ]
  },
  {
   "cell_type": "code",
   "execution_count": 4,
   "id": "0e42ed11",
   "metadata": {},
   "outputs": [],
   "source": [
    "# https://towardsdatascience.com/text-classification-with-nlp-tf-idf-vs-word2vec-vs-bert-41ff868d1794"
   ]
  },
  {
   "cell_type": "code",
   "execution_count": null,
   "id": "cc3d3ca1",
   "metadata": {},
   "outputs": [],
   "source": []
  }
 ],
 "metadata": {
  "kernelspec": {
   "display_name": "Python 3 (ipykernel)",
   "language": "python",
   "name": "python3"
  },
  "language_info": {
   "codemirror_mode": {
    "name": "ipython",
    "version": 3
   },
   "file_extension": ".py",
   "mimetype": "text/x-python",
   "name": "python",
   "nbconvert_exporter": "python",
   "pygments_lexer": "ipython3",
   "version": "3.9.13"
  }
 },
 "nbformat": 4,
 "nbformat_minor": 5
}
