{
 "cells": [
  {
   "cell_type": "code",
   "execution_count": 12,
   "id": "interim-mother",
   "metadata": {},
   "outputs": [
    {
     "name": "stdout",
     "output_type": "stream",
     "text": [
      "Imagine Dragons is an American rock band from Las Vegas, Nevada that was founded in 2018. They've released multiple albums including \"Night Visions\", \"Smoke + Mirrors\" and \"Evolve\". They have won many awards such as Grammys and Billboard Music Awards. Some of their most known songs are 'Radioactive', 'Thunder' and 'Whatever It Takes'.\n"
     ]
    },
    {
     "data": {
      "text/plain": [
       "'644f331721a17adc695d515a'"
      ]
     },
     "execution_count": 12,
     "metadata": {},
     "output_type": "execute_result"
    }
   ],
   "source": [
    "from hugchat import hugchat\n",
    "chatbot = hugchat.ChatBot()\n",
    "print(chatbot.chat(\"Who are imaginedragons? \"))\n",
    "# chatbot.chat('who was mahatma gandhi')\n",
    "# l\n",
    "# New a conversation (ignore error)\n",
    "id = chatbot.new_conversation()\n",
    "id\n",
    "# chatbot.change_conversation(id)\n",
    "\n",
    "# # Get conversation list\n",
    "# conversation_list = chatbot.get_conversation_list()\n",
    "# conversation_list"
   ]
  },
  {
   "cell_type": "code",
   "execution_count": null,
   "id": "annual-chemical",
   "metadata": {},
   "outputs": [],
   "source": []
  }
 ],
 "metadata": {
  "kernelspec": {
   "display_name": "gpu2",
   "language": "python",
   "name": "gpu2"
  },
  "language_info": {
   "codemirror_mode": {
    "name": "ipython",
    "version": 3
   },
   "file_extension": ".py",
   "mimetype": "text/x-python",
   "name": "python",
   "nbconvert_exporter": "python",
   "pygments_lexer": "ipython3",
   "version": "3.6.13"
  }
 },
 "nbformat": 4,
 "nbformat_minor": 5
}
