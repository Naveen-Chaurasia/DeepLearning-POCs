{
 "cells": [
  {
   "cell_type": "code",
   "execution_count": 1,
   "id": "sporting-belarus",
   "metadata": {},
   "outputs": [],
   "source": [
    "#AWS Book Chatbot\n",
    "# Utils\n",
    "import re\n",
    "import string\n",
    "import pickle\n",
    "import random\n",
    "import sys\n",
    "import os\n",
    "\n",
    "# Spacy\n",
    "import spacy\n",
    "\n",
    "# nltk\n",
    "import nltk\n",
    "from nltk.corpus import stopwords\n",
    "from nltk.tokenize import word_tokenize \n",
    "\n",
    "#import tensorflow_hub as hub\n",
    "import itertools\n",
    "\n",
    "# Data processing\n",
    "import numpy as np\n",
    "import pandas as pd # data processing\n",
    "#import contractions # data processing\n",
    "\n",
    "# SKLearn\n",
    "from sklearn.feature_extraction.text import TfidfVectorizer\n",
    "from sklearn.metrics.pairwise import cosine_similarity\n",
    "\n",
    "# Plotting tools\n",
    "import matplotlib.pyplot as plt\n",
    "import seaborn as sns\n",
    "\n",
    "import warnings\n",
    "warnings.filterwarnings(\"ignore\")\n",
    "\n",
    "from IPython.display import Markdown as md"
   ]
  },
  {
   "cell_type": "code",
   "execution_count": null,
   "id": "loose-penetration",
   "metadata": {},
   "outputs": [],
   "source": []
  }
 ],
 "metadata": {
  "kernelspec": {
   "display_name": "gpu2",
   "language": "python",
   "name": "gpu2"
  },
  "language_info": {
   "codemirror_mode": {
    "name": "ipython",
    "version": 3
   },
   "file_extension": ".py",
   "mimetype": "text/x-python",
   "name": "python",
   "nbconvert_exporter": "python",
   "pygments_lexer": "ipython3",
   "version": "3.6.13"
  }
 },
 "nbformat": 4,
 "nbformat_minor": 5
}
